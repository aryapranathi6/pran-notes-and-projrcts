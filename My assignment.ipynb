{
  "nbformat": 4,
  "nbformat_minor": 0,
  "metadata": {
    "colab": {
      "provenance": [],
      "authorship_tag": "ABX9TyN0gp8bZ1/ShvRV57Ya29i/",
      "include_colab_link": true
    },
    "kernelspec": {
      "name": "python3",
      "display_name": "Python 3"
    },
    "language_info": {
      "name": "python"
    }
  },
  "cells": [
    {
      "cell_type": "markdown",
      "metadata": {
        "id": "view-in-github",
        "colab_type": "text"
      },
      "source": [
        "<a href=\"https://colab.research.google.com/github/aryapranathi6/pran-notes-and-projrcts/blob/main/My%20assignment.ipynb\" target=\"_parent\"><img src=\"https://colab.research.google.com/assets/colab-badge.svg\" alt=\"Open In Colab\"/></a>"
      ]
    },
    {
      "cell_type": "markdown",
      "source": [
        "#This My First Assignment.\n",
        "\n",
        "1Q.differnce between inner product and outer product.\n",
        "\n",
        "A.\n",
        "\n",
        "#1.INNER PRODUCT:\n",
        "* The inner product results in a matrix of reduced dimensions.\n",
        "* Inner products simply require that the number of columns of the first matrix\n",
        "  equal the number of rows of the second.\n",
        "* It is similar to dot product of matrix.\n",
        "* The inner product is the scalar multiplication of one vector (or matrix) and the transpose of another vector (or matrix).\n",
        "* If both arrays are 1D arrays, their dimensions should be identical.\n",
        "* If either or both arrays are higher-dimensional, then the last dimensions of\n",
        " both arrays should be identic."
      ],
      "metadata": {
        "id": "WCTFL_flxHpB"
      }
    },
    {
      "cell_type": "markdown",
      "source": [
        "* for ex:"
      ],
      "metadata": {
        "id": "IS1zANRIxoUz"
      }
    },
    {
      "cell_type": "code",
      "source": [
        "import numpy as n"
      ],
      "metadata": {
        "id": "oLPcAP5kxfW_"
      },
      "execution_count": 1,
      "outputs": []
    },
    {
      "cell_type": "code",
      "source": [
        " a = n.array([[5,3,1], [1,2,3]])\n",
        " c = n.array([2,3,2])\n",
        " z = n.inner(a,c)\n",
        " print(z)"
      ],
      "metadata": {
        "colab": {
          "base_uri": "https://localhost:8080/"
        },
        "id": "wlq1W6f_xvza",
        "outputId": "4a6667e7-3365-4131-ea0f-a3f144d61511"
      },
      "execution_count": 4,
      "outputs": [
        {
          "output_type": "stream",
          "name": "stdout",
          "text": [
            "[21 14]\n"
          ]
        }
      ]
    },
    {
      "cell_type": "markdown",
      "source": [
        "#2.OUTER PRODUCT:\n",
        "* The outer product results in one of expanded dimensions.\n",
        "\n",
        "* Taking the outer product of the two vectors we first worked with is as simple as reversing their order.\n",
        "\n",
        "* It turns out the multiplying nd2 by nd is the same as multiplying it by two\n",
        " nd’s stacked on top of each other. That’s an outer product."
      ],
      "metadata": {
        "id": "Ytt7EJQNx7qD"
      }
    },
    {
      "cell_type": "code",
      "source": [
        " a = n.array([1,3,7,10,12])\n",
        " b = n.array([ 1,1,1])\n",
        " z = n.outer(a,b)\n",
        " print(z)"
      ],
      "metadata": {
        "colab": {
          "base_uri": "https://localhost:8080/"
        },
        "id": "f29eskHRyMVN",
        "outputId": "3151eac6-8d0f-4290-de38-d5f39b57dc4f"
      },
      "execution_count": 3,
      "outputs": [
        {
          "output_type": "stream",
          "name": "stdout",
          "text": [
            "[[ 1  1  1]\n",
            " [ 3  3  3]\n",
            " [ 7  7  7]\n",
            " [10 10 10]\n",
            " [12 12 12]]\n"
          ]
        }
      ]
    },
    {
      "cell_type": "markdown",
      "source": [
        "#2Q.About NORMS.\n",
        "A.\n",
        "NORM: Anorm on areal vector space V is a funtion which is denoted in || ||:V->R such that\n",
        "\n",
        "||X||>=0 for all X belongs to V and ||x||=0 iff X=0\n",
        "\n",
        "||aX||=|a| ||X|| for all X elongs to V and a belongs to real numbers.\n",
        "\n",
        "||X+Y||<= ||X||+ ||Y|| for all X,y\n",
        "\n",
        "There are few examples of it:\n",
        "\n",
        "The one-norm is the sum of absolute value.\n",
        "\n",
        "Euclidean norm.\n",
        "\n",
        "Maximum norm."
      ],
      "metadata": {
        "id": "Aa41xzYoyVnq"
      }
    }
  ]
}